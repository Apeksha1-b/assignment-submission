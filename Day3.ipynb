{
  "nbformat": 4,
  "nbformat_minor": 0,
  "metadata": {
    "colab": {
      "name": "Day3.ipynb",
      "provenance": [],
      "authorship_tag": "ABX9TyNrH2yh4erOS3P27wXAGtm/",
      "include_colab_link": true
    },
    "kernelspec": {
      "name": "python3",
      "display_name": "Python 3"
    }
  },
  "cells": [
    {
      "cell_type": "markdown",
      "metadata": {
        "id": "view-in-github",
        "colab_type": "text"
      },
      "source": [
        "<a href=\"https://colab.research.google.com/github/Apeksha1-b/assignment-submission/blob/main/Day3.ipynb\" target=\"_parent\"><img src=\"https://colab.research.google.com/assets/colab-badge.svg\" alt=\"Open In Colab\"/></a>"
      ]
    },
    {
      "cell_type": "code",
      "metadata": {
        "id": "8Y215Edcymrz"
      },
      "source": [
        " \n",
        "# Python program to merge two files \n",
        "data = data2 = \"\" \n",
        " \n",
        "c1=input(\"enter content of file1: \")\n",
        "c2=input(\"enter content of file2: \")\n",
        "#check and delete existing file for convenience of this assignment\n",
        "import os\n",
        "if os.path.exists(\"merged.txt\"):\n",
        "  os.remove(\"merged.txt\")\n",
        " \n",
        "#file1 created with content\n",
        "f1 = open(\"file1.txt\", \"w\")\n",
        "f1.write(c1)\n",
        "f1.close()\n",
        " \n",
        "#file2 created with content\n",
        "f2 = open(\"file2.txt\", \"w\")\n",
        "f2.write(c2)\n",
        "f2.close()\n",
        " \n",
        "#merged file\n",
        "merged = open(\"merged.txt\", \"x\")\n",
        " \n",
        " \n",
        "# Reading data from first file \n",
        "with open(\"file1.txt\") as fp: \n",
        "    data = fp.read() \n",
        "with open(\"file2.txt\") as fp:\n",
        "     data2 = fp.read() \n",
        " \n",
        "# Merging two files into one another file \n",
        "data += \"\\n\"\n",
        "data += data2 \n",
        "with open (\"merged.txt\", 'w') as fp: \n",
        "    fp.write(data)\n",
        " \n",
        "#open and read the file after merge\n",
        "f = open(\"merged.txt\", \"r\")\n",
        "print(\"the content of merged file is :\\n\\n\", f.read())"
      ],
      "execution_count": null,
      "outputs": []
    },
    {
      "cell_type": "code",
      "metadata": {
        "colab": {
          "base_uri": "https://localhost:8080/"
        },
        "id": "1pjzB16hoBri",
        "outputId": "95cd1e36-62fb-4f6c-dddc-74954f87de1f"
      },
      "source": [
        "#Assignment3.2 make dictionary of two list\n",
        "List1=[1,2,3,4,5]\n",
        "List2=[\"a\",\"b\",\"c\",\"d\",\"e\"]\n",
        "print(\"Original key list is:\"+str(List1))\n",
        "print(\"Original value list is:\"+str(List2))\n",
        "res={}\n",
        "for key in List1:\n",
        "   for value in List2:\n",
        "      res[key]=value\n",
        "      List2.remove (value)\n",
        "      break\n",
        "print(\"Resultant Dictionary is:\"+str(res))"
      ],
      "execution_count": null,
      "outputs": [
        {
          "output_type": "stream",
          "text": [
            "Original key list is:[1, 2, 3, 4, 5]\n",
            "Original value list is:['a', 'b', 'c', 'd', 'e']\n",
            "Resultant Dictionary is:{1: 'a', 2: 'b', 3: 'c', 4: 'd', 5: 'e'}\n"
          ],
          "name": "stdout"
        }
      ]
    }
  ]
}