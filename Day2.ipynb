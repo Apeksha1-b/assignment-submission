{
  "nbformat": 4,
  "nbformat_minor": 0,
  "metadata": {
    "colab": {
      "name": "Day2.ipynb",
      "provenance": [],
      "authorship_tag": "ABX9TyNmv4lu2rtWBxViU9MzDeTN",
      "include_colab_link": true
    },
    "kernelspec": {
      "name": "python3",
      "display_name": "Python 3"
    }
  },
  "cells": [
    {
      "cell_type": "markdown",
      "metadata": {
        "id": "view-in-github",
        "colab_type": "text"
      },
      "source": [
        "<a href=\"https://colab.research.google.com/github/Apeksha1-b/assignment-submission/blob/main/Day2.ipynb\" target=\"_parent\"><img src=\"https://colab.research.google.com/assets/colab-badge.svg\" alt=\"Open In Colab\"/></a>"
      ]
    },
    {
      "cell_type": "code",
      "metadata": {
        "colab": {
          "base_uri": "https://localhost:8080/"
        },
        "id": "iyGR_SLIiuK_",
        "outputId": "14f62521-75af-496d-eef0-1af4860d70db"
      },
      "source": [
        "#Assignment2.1 Remove empty list from list\n",
        "test_list=[5,6,[],3,[],[],9]\n",
        "print (\"The original list is:\"+str(test_list))\n",
        "res=list(filter(None,test_list))\n",
        "print (\"List after empty list removal:\"+str(res))"
      ],
      "execution_count": 3,
      "outputs": [
        {
          "output_type": "stream",
          "text": [
            "The original list is:[5, 6, [], 3, [], [], 9]\n",
            "List after empty list removal:[5, 6, 3, 9]\n"
          ],
          "name": "stdout"
        }
      ]
    },
    {
      "cell_type": "code",
      "metadata": {
        "colab": {
          "base_uri": "https://localhost:8080/"
        },
        "id": "ZPZWz3yaj0ZX",
        "outputId": "54d3bb01-f8ca-435d-8bec-30f69ab7351b"
      },
      "source": [
        " \n",
        "#Assignment 2.2 Remove duplicate words from a sentence\n",
        " \n",
        "sentence = input(\"Type in sentence: \")\n",
        "sentence_splited = sentence.split(' ')\n",
        " \n",
        "word_list = []\n",
        "for i in sentence_splited:\n",
        "    if i not in word_list:\n",
        "        word_list.append(i)\n",
        "    else:\n",
        "        continue\n",
        "print((' ').join(word_list))"
      ],
      "execution_count": 4,
      "outputs": [
        {
          "output_type": "stream",
          "text": [
            "Type in sentence: Enter a negative number and enter a positive number\n",
            "Enter a negative number and enter positive\n"
          ],
          "name": "stdout"
        }
      ]
    },
    {
      "cell_type": "code",
      "metadata": {
        "colab": {
          "base_uri": "https://localhost:8080/"
        },
        "id": "mGkiOYWvkL4o",
        "outputId": "f1e8dd08-f0ca-4754-c59c-f1e42823323f"
      },
      "source": [
        " \n",
        "#Assignment2.3 find all occurances of a character in string\n",
        "str1=input(\"please enter the string: \")\n",
        "ch=input(\" please enter the character: \")\n",
        "for i  in range(len(str1)):\n",
        "       if (str1[i]==ch):\n",
        "             print(ch,\" is found at position \",i+1)"
      ],
      "execution_count": 8,
      "outputs": [
        {
          "output_type": "stream",
          "text": [
            "please enter the string: python programming\n",
            " please enter the character: p\n",
            "p  is found at position  1\n",
            "p  is found at position  8\n"
          ],
          "name": "stdout"
        }
      ]
    }
  ]
}