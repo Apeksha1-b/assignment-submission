{
  "nbformat": 4,
  "nbformat_minor": 0,
  "metadata": {
    "colab": {
      "name": "Day.inpyb",
      "provenance": [],
      "collapsed_sections": [],
      "authorship_tag": "ABX9TyNgIOs8cfyzj4BnS7WCzjfO",
      "include_colab_link": true
    },
    "kernelspec": {
      "name": "python3",
      "display_name": "Python 3"
    }
  },
  "cells": [
    {
      "cell_type": "markdown",
      "metadata": {
        "id": "view-in-github",
        "colab_type": "text"
      },
      "source": [
        "<a href=\"https://colab.research.google.com/github/Apeksha1-b/assignment-submission/blob/main/Day1_inpyb.ipynb\" target=\"_parent\"><img src=\"https://colab.research.google.com/assets/colab-badge.svg\" alt=\"Open In Colab\"/></a>"
      ]
    },
    {
      "cell_type": "code",
      "metadata": {
        "id": "q1giUN4IUH_Y"
      },
      "source": [
        "Lower=int(input(\"Enter the lower range:\"))\n",
        "Upper=int(input(\"Enter the upper range:\"))\n",
        "For num in range(Lower,Upper+1):\n",
        "If num>1:\n",
        "for i in range(2,num):\n",
        "If (num%i)==0:\n",
        "Break\n",
        "Else:\n",
        "Print(num)"
      ],
      "execution_count": null,
      "outputs": []
    },
    {
      "cell_type": "code",
      "metadata": {
        "id": "eB6QbjvUV87e"
      },
      "source": [
        "num=int(input(\"enter a number:\")\n",
        "if num>0:\n",
        "        Print(\"sorry,factorial does not exist in negative number:\")\n",
        "Elif num==0:\n",
        "        Print(\"the factorial of 0 is 1\")\n",
        "Else:\n",
        "        For i in range(1,num+1):\n",
        "        factorial=factorial*I\n",
        "        Print(\"the factorial of\",num,\"is\"factorial \")"
      ],
      "execution_count": null,
      "outputs": []
    },
    {
      "cell_type": "code",
      "metadata": {
        "id": "wNjpzmm3XI2t"
      },
      "source": [
        "num=int(input(\"enter a number: \"))\n",
        "if num<0:\n",
        "     Print (\"enter a positive number\")\n",
        "else:\n",
        "     Sum=0\n",
        "while(num>0):\n",
        "     Sum+=Sum\n",
        "     num-=1\n",
        "     Print(\"the sum is\",Sum)"
      ],
      "execution_count": null,
      "outputs": []
    }
  ]
}