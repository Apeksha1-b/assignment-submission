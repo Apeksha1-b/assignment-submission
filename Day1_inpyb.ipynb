{
  "nbformat": 4,
  "nbformat_minor": 0,
  "metadata": {
    "colab": {
      "name": "Day1.inpyb",
      "provenance": [],
      "collapsed_sections": [],
      "authorship_tag": "ABX9TyOOy+BlthrxTgGsGs2RPKPM",
      "include_colab_link": true
    },
    "kernelspec": {
      "name": "python3",
      "display_name": "Python 3"
    }
  },
  "cells": [
    {
      "cell_type": "markdown",
      "metadata": {
        "id": "view-in-github",
        "colab_type": "text"
      },
      "source": [
        "<a href=\"https://colab.research.google.com/github/Apeksha1-b/assignment-submission/blob/main/Day1_inpyb.ipynb\" target=\"_parent\"><img src=\"https://colab.research.google.com/assets/colab-badge.svg\" alt=\"Open In Colab\"/></a>"
      ]
    },
    {
      "cell_type": "code",
      "metadata": {
        "id": "8ctjIuV1ey6q",
        "colab": {
          "base_uri": "https://localhost:8080/"
        },
        "outputId": "b69eae51-6091-4de8-efa6-9073ff07b185"
      },
      "source": [
        " \n",
        "#Assignment 1.1 Prime number with interval\n",
        "low = int(input(\"Enter lower prime number: \"))  \n",
        "up = int(input(\"Enter upper prime number: \"))  \n",
        "  \n",
        "for num in range(low,up + 1):  \n",
        "   if num > 1:  \n",
        "       for i in range(2,num):  \n",
        "           if (num % i) == 0:  \n",
        "               break  \n",
        "       else:  \n",
        "           print(num)"
      ],
      "execution_count": null,
      "outputs": [
        {
          "output_type": "stream",
          "text": [
            "Enter lower prime number: 900\n",
            "Enter upper prime number: 1000\n",
            "907\n",
            "911\n",
            "919\n",
            "929\n",
            "937\n",
            "941\n",
            "947\n",
            "953\n",
            "967\n",
            "971\n",
            "977\n",
            "983\n",
            "991\n",
            "997\n"
          ],
          "name": "stdout"
        }
      ]
    },
    {
      "cell_type": "code",
      "metadata": {
        "id": "9bsXzDZdffQ0",
        "colab": {
          "base_uri": "https://localhost:8080/"
        },
        "outputId": "f303cd0e-58de-453f-f285-4883334f7843"
      },
      "source": [
        " \n",
        "#Assignment 1.2 Factorial of a given input/number\n",
        " \n",
        "num = int(input(\"Enter a number: \"))\n",
        " \n",
        "factorial = 1\n",
        " \n",
        " \n",
        "if num < 0:\n",
        "   print(\"No factorials for negative numbers. try again!\")\n",
        "elif num == 0:\n",
        "   print(\"The factorial of 0 is 1\")\n",
        "else:\n",
        "   for i in range(1,num + 1):\n",
        "       factorial = factorial*i\n",
        "   print(\"The factorial of\",num,\"is\",factorial)"
      ],
      "execution_count": null,
      "outputs": [
        {
          "output_type": "stream",
          "text": [
            "Enter a number: 6\n",
            "The factorial of 6 is 720\n"
          ],
          "name": "stdout"
        }
      ]
    },
    {
      "cell_type": "code",
      "metadata": {
        "id": "QllE61B5f9Kg",
        "colab": {
          "base_uri": "https://localhost:8080/"
        },
        "outputId": "91800655-fedb-449a-f5d9-b3bf067ba776"
      },
      "source": [
        " \n",
        "#Assignment 1.3 sum of n numbers by while loop\n",
        "num = int(input(\"Enter the value of n: \"))\n",
        "x = num\n",
        "sum = 0\n",
        " \n",
        "if num <= 0: \n",
        "   print(\"Enter a whole positive number!\") \n",
        "else: \n",
        "   while num > 0:\n",
        "        sum = sum + num\n",
        "        num = num - 1;\n",
        "  \n",
        "print(\"Sum of first\", x, \"natural numbers is: \", sum)"
      ],
      "execution_count": null,
      "outputs": [
        {
          "output_type": "stream",
          "text": [
            "Enter the value of n: 14\n",
            "Sum of first 14 natural numbers is:  105\n"
          ],
          "name": "stdout"
        }
      ]
    }
  ]
}